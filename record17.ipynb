{
 "cells": [
  {
   "cell_type": "code",
   "execution_count": 14,
   "id": "eb88fd1a-8692-4595-8ec9-118d77450f65",
   "metadata": {},
   "outputs": [
    {
     "name": "stdin",
     "output_type": "stream",
     "text": [
      "Enter a Publisher: Ivory Media\n",
      "Enter Title Name: Python Programming\n",
      "Enter Author Name: Guido Van Rossum\n",
      "Enter Price: $ 20\n",
      "Enter Pages: 550\n"
     ]
    },
    {
     "name": "stdout",
     "output_type": "stream",
     "text": [
      "\n",
      "\n",
      "Publisher: Ivory Media\n",
      "Title: Python Programming\n",
      "Author: Guido Van Rossum\n",
      "Price:$ 20\n",
      "Pages: 550\n"
     ]
    }
   ],
   "source": [
    "class publisher:\n",
    "    def __init__(self,p_name):\n",
    "        self.p_name=p_name\n",
    "\n",
    "    def display(self):\n",
    "        print(\"Publisher:\",self.p_name)\n",
    "\n",
    "class book(publisher):\n",
    "    def __init__(self,p_name,title,author):\n",
    "        super().__init__(p_name)\n",
    "        self.title=title\n",
    "        self.author=author\n",
    "\n",
    "    def display(self):\n",
    "        super().display()\n",
    "        print(\"Title:\",self.title)\n",
    "        print(\"Author:\",self.author)\n",
    "\n",
    "class python(book):\n",
    "    def __init__(self,p_name,title,author,price,pages):\n",
    "        super().__init__(p_name,title,author)\n",
    "        self.price=price\n",
    "        self.pages=pages\n",
    "\n",
    "    def display(self):\n",
    "        super().display()\n",
    "        print(\"Price:$\",price)\n",
    "        print(\"Pages:\",pages)\n",
    "\n",
    "\n",
    "p_name=input(\"Enter a Publisher:\")\n",
    "title=input(\"Enter Title Name:\")\n",
    "author=input(\"Enter Author Name:\")\n",
    "price=int(input(\"Enter Price: $\"))\n",
    "pages=int(input(\"Enter Pages:\"))\n",
    "\n",
    "b=python(p_name,title,author,price,pages)\n",
    "\n",
    "print(\"\\n\")\n",
    "b.display()"
   ]
  },
  {
   "cell_type": "code",
   "execution_count": null,
   "id": "1dd5124f-9bd3-4ba0-8780-a08649f2fae0",
   "metadata": {},
   "outputs": [],
   "source": []
  }
 ],
 "metadata": {
  "kernelspec": {
   "display_name": "Python 3 (ipykernel)",
   "language": "python",
   "name": "python3"
  },
  "language_info": {
   "codemirror_mode": {
    "name": "ipython",
    "version": 3
   },
   "file_extension": ".py",
   "mimetype": "text/x-python",
   "name": "python",
   "nbconvert_exporter": "python",
   "pygments_lexer": "ipython3",
   "version": "3.11.9"
  }
 },
 "nbformat": 4,
 "nbformat_minor": 5
}
