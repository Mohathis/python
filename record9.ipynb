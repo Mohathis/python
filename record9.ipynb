{
 "cells": [
  {
   "cell_type": "code",
   "execution_count": 3,
   "id": "01a1630b-930e-421b-927b-b1168fc8972e",
   "metadata": {},
   "outputs": [
    {
     "name": "stdin",
     "output_type": "stream",
     "text": [
      "Ente name: kiran\n",
      "Enter roll number: 4\n",
      "Ente name: aju\n",
      "Enter roll number: 2\n",
      "Ente name: kavya\n",
      "Enter roll number: 6\n",
      "Ente name: zidan\n",
      "Enter roll number: 17\n",
      "Ente name: roshan\n",
      "Enter roll number: 10\n"
     ]
    },
    {
     "name": "stdout",
     "output_type": "stream",
     "text": [
      "\n",
      " Name and Roll number:  {4: 'kiran', 2: 'aju', 6: 'kavya', 17: 'zidan', 10: 'roshan'}\n",
      "\n",
      " Ascending order:\n",
      "{2: 'aju', 4: 'kiran', 6: 'kavya', 10: 'roshan', 17: 'zidan'}\n",
      "\n",
      " Descending order:\n",
      "{17: 'zidan', 10: 'roshan', 6: 'kavya', 4: 'kiran', 2: 'aju'}\n"
     ]
    }
   ],
   "source": [
    "#program to accept 5 students names and roll numbers, and map these into a dictionary(roll as key,name as value).\n",
    "#sort the dictionary in ascending and descending order of their roll number[use sorted()]write a python\n",
    "\n",
    "students= {}\n",
    "\n",
    "name=input(\"Enter name:\")\n",
    "roll=int(input(\"Enter roll number:\"))\n",
    "students[roll]=name\n",
    "\n",
    "name=input(\"Enter name:\")\n",
    "roll=int(input(\"Enter roll number:\"))\n",
    "students[roll]=name\n",
    "\n",
    "name=input(\"Enter name:\")\n",
    "roll=int(input(\"Enter roll number:\"))\n",
    "students[roll]=name\n",
    "\n",
    "name=input(\"Enter name:\")\n",
    "roll=int(input(\"Enter roll number:\"))\n",
    "students[roll]=name\n",
    "\n",
    "name=input(\"Enter name:\")\n",
    "roll=int(input(\"Enter roll number:\"))\n",
    "students[roll]=name\n",
    "\n",
    "print(\"\\n Name and Roll number: \",students)\n",
    "\n",
    "print(\"\\n Ascending order:\")\n",
    "print(dict(sorted(students.items())))\n",
    "\n",
    "print(\"\\n Descending order:\")\n",
    "print(dict(sorted(students.items(), reverse=True)))\n",
    "\n"
   ]
  },
  {
   "cell_type": "code",
   "execution_count": 7,
   "id": "622b3409-d009-454b-b155-68f4d5d0e5ed",
   "metadata": {},
   "outputs": [
    {
     "name": "stdin",
     "output_type": "stream",
     "text": [
      "Enter a name kiran\n",
      "Enter a roll number 5\n",
      "Enter a name manu\n",
      "Enter a roll number 8\n",
      "Enter a name roshan\n",
      "Enter a roll number 10\n",
      "Enter a name kavya\n",
      "Enter a roll number 6\n",
      "Enter a name zidan\n",
      "Enter a roll number 17\n"
     ]
    },
    {
     "name": "stdout",
     "output_type": "stream",
     "text": [
      "Dictionary 1: {5: 'kiran', 8: 'manu', 10: 'roshan'}\n",
      "Dictionary 2: {6: 'kavya', 17: 'zidan'}\n",
      "after merging: {5: 'kiran', 8: 'manu', 10: 'roshan', 6: 'kavya', 17: 'zidan'}\n"
     ]
    }
   ],
   "source": [
    "#write a program to accept 2 dictionaries(dic 1 contains 3 students anmes and roll numbers, \n",
    "#and dic2 contains 2 students anmes and roll numbers).Merge 2 dictionaries and display it [use update()]\n",
    "\n",
    "dict1={}\n",
    "\n",
    "name=input(\"Enter a name\")\n",
    "roll=int(input(\"Enter a roll number\"))\n",
    "dict1[roll]=name\n",
    "\n",
    "name=input(\"Enter a name\")\n",
    "roll=int(input(\"Enter a roll number\"))\n",
    "dict1[roll]=name\n",
    "\n",
    "name=input(\"Enter a name\")\n",
    "roll=int(input(\"Enter a roll number\"))\n",
    "dict1[roll]=name\n",
    "\n",
    "dict2={}\n",
    "\n",
    "name=input(\"Enter a name\")\n",
    "roll=int(input(\"Enter a roll number\"))\n",
    "dict2[roll]=name\n",
    "\n",
    "name=input(\"Enter a name\")\n",
    "roll=int(input(\"Enter a roll number\"))\n",
    "dict2[roll]=name\n",
    "\n",
    "\n",
    "print(\"Dictionary 1:\",dict1)\n",
    "print(\"Dictionary 2:\",dict2)\n",
    "\n",
    "dict1.update(dict2)\n",
    "\n",
    "print(\"after merging:\",dict1)"
   ]
  },
  {
   "cell_type": "code",
   "execution_count": null,
   "id": "ee5a962b-13db-4a92-a389-ffe788b7918e",
   "metadata": {},
   "outputs": [],
   "source": []
  }
 ],
 "metadata": {
  "kernelspec": {
   "display_name": "Python 3 (ipykernel)",
   "language": "python",
   "name": "python3"
  },
  "language_info": {
   "codemirror_mode": {
    "name": "ipython",
    "version": 3
   },
   "file_extension": ".py",
   "mimetype": "text/x-python",
   "name": "python",
   "nbconvert_exporter": "python",
   "pygments_lexer": "ipython3",
   "version": "3.11.9"
  }
 },
 "nbformat": 4,
 "nbformat_minor": 5
}
