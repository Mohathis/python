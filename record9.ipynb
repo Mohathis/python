{
 "cells": [
  {
   "cell_type": "code",
   "execution_count": 25,
   "id": "01a1630b-930e-421b-927b-b1168fc8972e",
   "metadata": {},
   "outputs": [
    {
     "name": "stdin",
     "output_type": "stream",
     "text": [
      "Enter a roll numbers: 4,7,2,9,1\n",
      "Enter a names: kiran,aju,umar,aswin,zidan\n"
     ]
    },
    {
     "name": "stdout",
     "output_type": "stream",
     "text": [
      "\n",
      " Name and Roll number:  {'4': 'kiran', '7': 'aju', '2': 'umar', '9': 'aswin', '1': 'zidan'}\n",
      " \n",
      " Ascending order: {'1': 'zidan', '2': 'umar', '4': 'kiran', '7': 'aju', '9': 'aswin'}\n",
      "\n",
      " Descending order: {'9': 'aswin', '7': 'aju', '4': 'kiran', '2': 'umar', '1': 'zidan'}\n"
     ]
    }
   ],
   "source": [
    "#program to accept 5 students names and roll numbers, and map these into a dictionary(roll as key,name as value).\n",
    "#sort the dictionary in ascending and descending order of their roll number[use sorted()]write a python\n",
    "\n",
    "roll=input(\"Enter a roll numbers:\").split(\",\")\n",
    "name=input(\"Enter a names:\").split(\",\")\n",
    "my_dict=dict(zip(roll,name))\n",
    "\n",
    "print(\"\\n Name and Roll number: \",my_dict)\n",
    "\n",
    "ascending=dict(sorted(my_dict.items()))\n",
    "print(\" \\n Ascending order:\",ascending)\n",
    "\n",
    "descending=dict(sorted(my_dict.items(), reverse=True))\n",
    "print(\"\\n Descending order:\",descending)\n",
    "\n",
    "\n"
   ]
  },
  {
   "cell_type": "code",
   "execution_count": 26,
   "id": "622b3409-d009-454b-b155-68f4d5d0e5ed",
   "metadata": {},
   "outputs": [
    {
     "name": "stdin",
     "output_type": "stream",
     "text": [
      "Enter 3 roll numbers: 7,4,5\n",
      "Enter 3  names: kiran,aju,zidan\n",
      "Enter 2 roll numbers: 1,9\n",
      "Enter 2 names: sanu,shazam\n"
     ]
    },
    {
     "name": "stdout",
     "output_type": "stream",
     "text": [
      "Dictionary 1: {'7': 'kiran', '4': 'aju', '5': 'zidan'}\n",
      "Dictionary 2: {'1': 'sanu', '9': 'shazam'}\n",
      "after merging: {'7': 'kiran', '4': 'aju', '5': 'zidan', '1': 'sanu', '9': 'shazam'}\n"
     ]
    }
   ],
   "source": [
    "#write a program to accept 2 dictionaries(dic 1 contains 3 students anmes and roll numbers, \n",
    "#and dic2 contains 2 students anmes and roll numbers).Merge 2 dictionaries and display it [use update()]\n",
    "\n",
    "roll=input(\"Enter 3 roll numbers:\").split(\",\")\n",
    "name=input(\"Enter 3  names:\").split(\",\")\n",
    "dict1=dict(zip(roll,name))\n",
    "\n",
    "roll=input(\"Enter 2 roll numbers:\").split(\",\")\n",
    "name=input(\"Enter 2 names:\").split(\",\")\n",
    "dict2=dict(zip(roll,name))\n",
    "\n",
    "\n",
    "print(\"Dictionary 1:\",dict1)\n",
    "print(\"Dictionary 2:\",dict2)\n",
    "\n",
    "dict1.update(dict2)\n",
    "\n",
    "print(\"after merging:\",dict1)"
   ]
  },
  {
   "cell_type": "code",
   "execution_count": null,
   "id": "ee5a962b-13db-4a92-a389-ffe788b7918e",
   "metadata": {},
   "outputs": [],
   "source": []
  }
 ],
 "metadata": {
  "kernelspec": {
   "display_name": "Python 3 (ipykernel)",
   "language": "python",
   "name": "python3"
  },
  "language_info": {
   "codemirror_mode": {
    "name": "ipython",
    "version": 3
   },
   "file_extension": ".py",
   "mimetype": "text/x-python",
   "name": "python",
   "nbconvert_exporter": "python",
   "pygments_lexer": "ipython3",
   "version": "3.11.9"
  }
 },
 "nbformat": 4,
 "nbformat_minor": 5
}
