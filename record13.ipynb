{
 "cells": [
  {
   "cell_type": "code",
   "execution_count": 3,
   "id": "e4bf9130-7699-4b26-9197-201efc91a8dd",
   "metadata": {},
   "outputs": [
    {
     "name": "stdin",
     "output_type": "stream",
     "text": [
      "enter the words c,java,python,html\n"
     ]
    },
    {
     "name": "stdout",
     "output_type": "stream",
     "text": [
      "Words in list: ['c', 'java', 'python', 'html']\n",
      "Length of the longest word: 6\n"
     ]
    }
   ],
   "source": [
    "#Accept a list of words and return length of longest word.using function\n",
    "\n",
    "def longest_word_length(words):\n",
    "    return max(len(word) for word in words)\n",
    "\n",
    "words=input(\"enter the words\").split(\",\")\n",
    "print(\"Words in list:\",words)\n",
    "print(\"Length of the longest word:\",longest_word_length(words))"
   ]
  },
  {
   "cell_type": "code",
   "execution_count": 3,
   "id": "0c7996f7-1dc4-4288-8a84-cd4411812eb8",
   "metadata": {},
   "outputs": [
    {
     "name": "stdin",
     "output_type": "stream",
     "text": [
      "Enter the number 5\n"
     ]
    },
    {
     "name": "stdout",
     "output_type": "stream",
     "text": [
      "* \n",
      "* * \n",
      "* * * \n",
      "* * * * \n",
      "* * * * * \n",
      "* * * * \n",
      "* * * \n",
      "* * \n",
      "* \n"
     ]
    }
   ],
   "source": [
    "#Construct following pattern using nested loop \n",
    "#              * \n",
    "#              *  * \n",
    "#              *  *  * \n",
    "#              *  *  *  * \n",
    "#              *  *  *  *  * \n",
    "#              *  *  *  * \n",
    "#              *  *  * \n",
    "#              *  * \n",
    "#              *\n",
    "\n",
    "n=int(input(\"Enter the number\"))\n",
    "def star(n):\n",
    "    for i in range(1,n + 1):\n",
    "        for j in range(i):\n",
    "            print(\"*\", end=\" \")\n",
    "        print()\n",
    "    \n",
    "    for i in range(n -1,0,-1):\n",
    "        for j in range(i):\n",
    "            print(\"*\", end=\" \")\n",
    "        print()\n",
    "star(n)\n"
   ]
  },
  {
   "cell_type": "code",
   "execution_count": 17,
   "id": "3b43f9a1-e21a-4513-a0d4-c7be700d11c1",
   "metadata": {},
   "outputs": [
    {
     "name": "stdin",
     "output_type": "stream",
     "text": [
      "Enter the number: 18\n"
     ]
    },
    {
     "name": "stdout",
     "output_type": "stream",
     "text": [
      "18\n",
      "Factors of this number [1, 2, 3, 6, 9, 18]\n"
     ]
    }
   ],
   "source": [
    "#Generate all factors of a number.\n",
    "def factors(n):\n",
    "    result=[]\n",
    "    for i in range(1,n+1):\n",
    "        if n%i ==0:\n",
    "            result.append(i)\n",
    "    return result\n",
    "\n",
    "num=int(input(\"Enter the number:\"))\n",
    "print(num)\n",
    "print(\"Factors of this number\",factors(num))"
   ]
  },
  {
   "cell_type": "code",
   "execution_count": 1,
   "id": "2c516f56-86b9-4ee4-92a0-610700a6f16e",
   "metadata": {},
   "outputs": [
    {
     "name": "stdin",
     "output_type": "stream",
     "text": [
      "Enter the side of square 5\n"
     ]
    },
    {
     "name": "stdout",
     "output_type": "stream",
     "text": [
      "The area of square: 25\n"
     ]
    },
    {
     "name": "stdin",
     "output_type": "stream",
     "text": [
      "Enter the length of rectangle 12\n",
      "Enter th width of rectangle 10\n"
     ]
    },
    {
     "name": "stdout",
     "output_type": "stream",
     "text": [
      "The area of rectangle: 120\n"
     ]
    },
    {
     "name": "stdin",
     "output_type": "stream",
     "text": [
      "Enter the base of triangle 10\n",
      "Enter the height of triangle 15\n"
     ]
    },
    {
     "name": "stdout",
     "output_type": "stream",
     "text": [
      "The area of triangle: 75.0\n"
     ]
    }
   ],
   "source": [
    "#Write lambda functions to find area of square, rectangle and triangle.\n",
    "\n",
    "\n",
    "square= lambda a:a*a\n",
    "rectangle= lambda l,w : l*w\n",
    "triangle= lambda b,h :0.5*b*h\n",
    "    \n",
    "a=int(input(\"Enter the side of square\"))\n",
    "print(\"The area of square:\",square(a))\n",
    "\n",
    "\n",
    "l=int(input(\"Enter the length of rectangle\"))\n",
    "w=int(input(\"Enter th width of rectangle\"))\n",
    "print(\"The area of rectangle:\",rectangle(l,w))\n",
    "\n",
    "b=int(input(\"Enter the base of triangle\"))\n",
    "h=int(input(\"Enter the height of triangle\"))\n",
    "print(\"The area of triangle:\",triangle(b,h))\n",
    "\n",
    "\n",
    "\n"
   ]
  },
  {
   "cell_type": "code",
   "execution_count": null,
   "id": "14380d1c-048b-48a1-9bf7-52561357cd23",
   "metadata": {},
   "outputs": [],
   "source": []
  }
 ],
 "metadata": {
  "kernelspec": {
   "display_name": "Python 3 (ipykernel)",
   "language": "python",
   "name": "python3"
  },
  "language_info": {
   "codemirror_mode": {
    "name": "ipython",
    "version": 3
   },
   "file_extension": ".py",
   "mimetype": "text/x-python",
   "name": "python",
   "nbconvert_exporter": "python",
   "pygments_lexer": "ipython3",
   "version": "3.11.9"
  }
 },
 "nbformat": 4,
 "nbformat_minor": 5
}
