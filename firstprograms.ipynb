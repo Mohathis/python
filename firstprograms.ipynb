{
 "cells": [
  {
   "cell_type": "code",
   "execution_count": 1,
   "id": "54e42512-3bcd-44d2-af17-e93cf9471f72",
   "metadata": {},
   "outputs": [
    {
     "name": "stdout",
     "output_type": "stream",
     "text": [
      "4.123105625617661\n"
     ]
    }
   ],
   "source": [
    "import math\n",
    "number=17\n",
    "result= math.sqrt(number)\n",
    "print(result)"
   ]
  },
  {
   "cell_type": "code",
   "execution_count": 8,
   "id": "3f8a1fe7-e7db-472b-ae0f-fc9beb0cb927",
   "metadata": {},
   "outputs": [
    {
     "name": "stdout",
     "output_type": "stream",
     "text": [
      "4.0\n"
     ]
    }
   ],
   "source": [
    "#import \n",
    "number=16\n",
    "result= math.sqrt(number)\n",
    "print(result)"
   ]
  },
  {
   "cell_type": "code",
   "execution_count": 16,
   "id": "1fb215e3-d343-40c0-a6d5-f2bb1330462c",
   "metadata": {},
   "outputs": [
    {
     "name": "stdout",
     "output_type": "stream",
     "text": [
      "4.123105625617661\n"
     ]
    }
   ],
   "source": [
    "import math\n",
    "number=17\n",
    "result= math.sqrt(number)\n",
    "print(result)"
   ]
  },
  {
   "cell_type": "code",
   "execution_count": 18,
   "id": "095fef1b-ace4-48f2-9c62-b25a352e757e",
   "metadata": {},
   "outputs": [
    {
     "name": "stdout",
     "output_type": "stream",
     "text": [
      "5\n",
      "4\n"
     ]
    }
   ],
   "source": [
    "import math\n",
    "num = 4.7\n",
    "print(math.ceil(num))\n",
    "print(math.floor(num))"
   ]
  },
  {
   "cell_type": "code",
   "execution_count": 19,
   "id": "738c94ac-0b84-495d-8722-5407ce72d228",
   "metadata": {},
   "outputs": [
    {
     "name": "stdin",
     "output_type": "stream",
     "text": [
      "enter the value 4\n"
     ]
    },
    {
     "name": "stdout",
     "output_type": "stream",
     "text": [
      "area of circle 16.0\n"
     ]
    }
   ],
   "source": [
    "#area of square\n",
    "\n",
    "side=float(input('enter the value'))\n",
    "area=side*side\n",
    "print('area of circle',area)"
   ]
  },
  {
   "cell_type": "code",
   "execution_count": 20,
   "id": "a0d52f17-6cd2-4f9b-9731-baaf29ca90ff",
   "metadata": {},
   "outputs": [
    {
     "name": "stdin",
     "output_type": "stream",
     "text": [
      "enter the base of triangle 5\n",
      "enter the height of triangle 8\n"
     ]
    },
    {
     "name": "stdout",
     "output_type": "stream",
     "text": [
      "the area of right angled triangle 20.0\n"
     ]
    }
   ],
   "source": [
    "#area of right angled triangle\n",
    "\n",
    "base=float(input('enter the base of triangle'))\n",
    "height=float(input('enter the height of triangle'))\n",
    "\n",
    "area=0.5*base*height\n",
    "\n",
    "print('the area of right angled triangle',area)\n"
   ]
  },
  {
   "cell_type": "code",
   "execution_count": 21,
   "id": "ce12fe23-73de-4434-b649-6905aa6763f2",
   "metadata": {},
   "outputs": [
    {
     "name": "stdin",
     "output_type": "stream",
     "text": [
      "Enter your name Mohathis\n"
     ]
    },
    {
     "name": "stdout",
     "output_type": "stream",
     "text": [
      "hello Mohathis!\n"
     ]
    }
   ],
   "source": [
    "#hello\n",
    "\n",
    "name=input(\"Enter your name\")\n",
    "print('Hello',name + '!')\n"
   ]
  },
  {
   "cell_type": "code",
   "execution_count": 23,
   "id": "d1f8e566-87ac-4d3d-9206-7e3245093963",
   "metadata": {},
   "outputs": [
    {
     "name": "stdin",
     "output_type": "stream",
     "text": [
      "Enter a number 7\n"
     ]
    },
    {
     "name": "stdout",
     "output_type": "stream",
     "text": [
      "previous number is: 6\n",
      "next number is: 8\n"
     ]
    }
   ],
   "source": [
    "#previous and next number\n",
    "\n",
    "num=int(input('Enter a number'))\n",
    "\n",
    "previous_num = num-1\n",
    "next_num = num+1\n",
    "\n",
    "print('previous number is:',previous_num)\n",
    "print('next number is:',next_num)"
   ]
  },
  {
   "cell_type": "code",
   "execution_count": null,
   "id": "abce17e2-08cf-45ad-baf2-696ade3430c1",
   "metadata": {},
   "outputs": [],
   "source": []
  }
 ],
 "metadata": {
  "kernelspec": {
   "display_name": "Python 3 (ipykernel)",
   "language": "python",
   "name": "python3"
  },
  "language_info": {
   "codemirror_mode": {
    "name": "ipython",
    "version": 3
   },
   "file_extension": ".py",
   "mimetype": "text/x-python",
   "name": "python",
   "nbconvert_exporter": "python",
   "pygments_lexer": "ipython3",
   "version": "3.11.9"
  }
 },
 "nbformat": 4,
 "nbformat_minor": 5
}
