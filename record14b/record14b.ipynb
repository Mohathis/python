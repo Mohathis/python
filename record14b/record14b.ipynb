{
 "cells": [
  {
   "cell_type": "code",
   "execution_count": 2,
   "id": "579450a9-c0c3-4c3c-a66e-e5174c8d4ce2",
   "metadata": {},
   "outputs": [
    {
     "name": "stdout",
     "output_type": "stream",
     "text": [
      "\n",
      "1.Rectangle \n",
      "2.Circle \n",
      "3.Cuboid \n",
      "4.Sphere \n",
      "5.Exit\n"
     ]
    },
    {
     "name": "stdin",
     "output_type": "stream",
     "text": [
      "Enter your choice: 1\n",
      "Enter the length of the rectangle: 6\n",
      "Enter the breadth of the rectangle: 4\n"
     ]
    },
    {
     "name": "stdout",
     "output_type": "stream",
     "text": [
      "Area of rectangle 24\n",
      "perimeter of rectangle 20\n",
      "\n",
      "1.Rectangle \n",
      "2.Circle \n",
      "3.Cuboid \n",
      "4.Sphere \n",
      "5.Exit\n"
     ]
    },
    {
     "name": "stdin",
     "output_type": "stream",
     "text": [
      "Enter your choice: 2\n",
      "Enter the radius of circle: 5\n"
     ]
    },
    {
     "name": "stdout",
     "output_type": "stream",
     "text": [
      "Area of circle 78.5\n",
      "Perimeter of circle 31.400000000000002\n",
      "\n",
      "1.Rectangle \n",
      "2.Circle \n",
      "3.Cuboid \n",
      "4.Sphere \n",
      "5.Exit\n"
     ]
    },
    {
     "name": "stdin",
     "output_type": "stream",
     "text": [
      "Enter your choice: 3\n",
      "Enter the length of the cuboid: 5\n",
      "Enter the breadth of the cuboid: 6\n",
      "Enter the height of cuboid: 9\n"
     ]
    },
    {
     "name": "stdout",
     "output_type": "stream",
     "text": [
      "Area of cuboid 258\n",
      "Perimeter of cuboid 80\n",
      "\n",
      "1.Rectangle \n",
      "2.Circle \n",
      "3.Cuboid \n",
      "4.Sphere \n",
      "5.Exit\n"
     ]
    },
    {
     "name": "stdin",
     "output_type": "stream",
     "text": [
      "Enter your choice: 4\n",
      "Enter the radius of sphere: 6\n"
     ]
    },
    {
     "name": "stdout",
     "output_type": "stream",
     "text": [
      "Area of sphere 37.68\n",
      "Perimeter of sphere 452.16\n",
      "\n",
      "1.Rectangle \n",
      "2.Circle \n",
      "3.Cuboid \n",
      "4.Sphere \n",
      "5.Exit\n"
     ]
    },
    {
     "name": "stdin",
     "output_type": "stream",
     "text": [
      "Enter your choice: 5\n"
     ]
    },
    {
     "name": "stdout",
     "output_type": "stream",
     "text": [
      "Exiting\n"
     ]
    }
   ],
   "source": [
    "from graphics import rectangle\n",
    "from graphics import circle\n",
    "from graphics.graphics3D import cuboid\n",
    "from graphics.graphics3D import sphere\n",
    "\n",
    "while(1):\n",
    "    print(\"\\n1.Rectangle \\n2.Circle \\n3.Cuboid \\n4.Sphere \\n5.Exit\")\n",
    "    n=int(input(\"Enter your choice:\"))\n",
    "    if n==1:\n",
    "        l=int(input(\"Enter the length of the rectangle:\"))\n",
    "        b=int(input(\"Enter the breadth of the rectangle:\"))\n",
    "        rectangle.r_area(l,b)\n",
    "        rectangle.r_perimeter(l,b)\n",
    "    elif n==2:\n",
    "        r=int(input(\"Enter the radius of circle:\"))\n",
    "        circle.c_area(r)\n",
    "        circle.c_perimeter(r)\n",
    "    elif n==3:\n",
    "        l=int(input(\"Enter the length of the cuboid:\"))\n",
    "        b=int(input(\"Enter the breadth of the cuboid:\"))\n",
    "        h=int(input(\"Enter the height of cuboid:\"))\n",
    "        cuboid.cuboidarea(l,b,h)\n",
    "        cuboid.cuboidperi(l,b,h)\n",
    "    elif n==4:\n",
    "        r=int(input(\"Enter the radius of sphere:\"))\n",
    "        sphere.spherearea(r)\n",
    "        sphere.sphereperi(r)\n",
    "    else:\n",
    "        print(\"Exiting\")\n",
    "        break"
   ]
  },
  {
   "cell_type": "code",
   "execution_count": null,
   "id": "6330129a-b3b8-4dca-be1d-a8b3d51dc939",
   "metadata": {},
   "outputs": [],
   "source": []
  }
 ],
 "metadata": {
  "kernelspec": {
   "display_name": "Python 3 (ipykernel)",
   "language": "python",
   "name": "python3"
  },
  "language_info": {
   "codemirror_mode": {
    "name": "ipython",
    "version": 3
   },
   "file_extension": ".py",
   "mimetype": "text/x-python",
   "name": "python",
   "nbconvert_exporter": "python",
   "pygments_lexer": "ipython3",
   "version": "3.11.9"
  }
 },
 "nbformat": 4,
 "nbformat_minor": 5
}
