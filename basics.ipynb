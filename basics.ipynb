
{
 "cells": [
  {
   "cell_type": "code",
   "execution_count": 3,
   "id": "5114d223-c33c-4597-97a4-9e0350cdfcdf",
   "metadata": {},
   "outputs": [
    {
     "name": "stdout",
     "output_type": "stream",
     "text": [
      "good morning\n"
     ]
    }
   ],
   "source": [
    "print(\"good morning\")"
   ]
  },
  {
   "cell_type": "code",
   "execution_count": 4,
   "id": "9d4bae25-7cf7-4c26-96b5-4c9b7d4f4d42",
   "metadata": {},
   "outputs": [
    {
     "name": "stdout",
     "output_type": "stream",
     "text": [
      "hello world\n"
     ]
    }
   ],
   "source": [
    "print(\"hello world\")"
   ]
  },
  {
   "cell_type": "code",
   "execution_count": 5,
   "id": "e0739f64-3fe2-44e9-96b5-1f5ac9a39ee4",
   "metadata": {},
   "outputs": [
    {
     "name": "stdout",
     "output_type": "stream",
     "text": [
      "kadavil valappil\n"
     ]
    }
   ],
   "source": [
    "print(\"kadavil valappil\");"
   ]
  },
  {
   "cell_type": "code",
   "execution_count": 7,
   "id": "bdcb9a2c-e76b-42f5-8562-49bb78557f82",
   "metadata": {},
   "outputs": [
    {
     "name": "stdout",
     "output_type": "stream",
     "text": [
      "MOHATHIS KV, KADAVIL VALAPPIL, EDAPPAL\n"
     ]
    }
   ],
   "source": [
    "print(\"MOHATHIS KV, KADAVIL VALAPPIL, EDAPPAL\")"
   ]
  },
  {
   "cell_type": "code",
   "execution_count": 8,
   "id": "6cb40bd6-a6bf-4548-ae1b-530677f55cf2",
   "metadata": {},
   "outputs": [
    {
     "name": "stdout",
     "output_type": "stream",
     "text": [
      "MOHATHIS KV \n",
      " KADAVIL VALAPPIL \n",
      " EDAPPAL\n"
     ]
    }
   ],
   "source": [
    "print(\"MOHATHIS KV \\n KADAVIL VALAPPIL \\n EDAPPAL\")"
   ]
  },
  {
   "cell_type": "code",
   "execution_count": 9,
   "id": "312dd224-3db1-4f21-bbf6-8c7a92dd105f",
   "metadata": {},
   "outputs": [
    {
     "name": "stdout",
     "output_type": "stream",
     "text": [
      "MOHATHIS KV \n",
      " KADAVIL VALAPPIL \n",
      " EDAPPAL\n"
     ]
    }
   ],
   "source": [
    "print(\"MOHATHIS KV \\n KADAVIL VALAPPIL \\n EDAPPAL\")"
   ]
  },
  {
   "cell_type": "code",
   "execution_count": 11,
   "id": "3852c1e2-3525-4108-88be-9618ea501771",
   "metadata": {},
   "outputs": [
    {
     "name": "stdout",
     "output_type": "stream",
     "text": [
      "hey\n"
     ]
    }
   ],
   "source": [
    "print(\"hey\")"
   ]
  },
  {
   "cell_type": "code",
   "execution_count": 12,
   "id": "e66fd2a7-4e0d-4bc6-b4d1-b565737897f0",
   "metadata": {},
   "outputs": [
    {
     "name": "stdout",
     "output_type": "stream",
     "text": [
      "hey\n"
     ]
    }
   ],
   "source": [
    "print(\"hey\")"
   ]
  },
  {
   "cell_type": "code",
   "execution_count": 13,
   "id": "70aab38a-b288-41df-8766-0f0eda6327fc",
   "metadata": {},
   "outputs": [
    {
     "name": "stdout",
     "output_type": "stream",
     "text": [
      "2.5\n"
     ]
    }
   ],
   "source": [
    "print(5/2)"
   ]
  },
  {
   "cell_type": "code",
   "execution_count": 14,
   "id": "86bff818-8217-4e61-a766-d52563b2365d",
   "metadata": {},
   "outputs": [
    {
     "name": "stdout",
     "output_type": "stream",
     "text": [
      "2\n"
     ]
    }
   ],
   "source": [
    "print(5//2)"
   ]
  },
  {
   "cell_type": "code",
   "execution_count": 15,
   "id": "9c4d1d77-ac09-402f-aa0b-1990277038e7",
   "metadata": {},
   "outputs": [
    {
     "name": "stdout",
     "output_type": "stream",
     "text": [
      "4\n"
     ]
    }
   ],
   "source": [
    "print(2*2)"
   ]
  },
  {
   "cell_type": "code",
   "execution_count": 16,
   "id": "9cd87dc3-1361-41a8-9655-a1fe49d0e68d",
   "metadata": {},
   "outputs": [
    {
     "name": "stdout",
     "output_type": "stream",
     "text": [
      "8\n"
     ]
    }
   ],
   "source": [
    "print(2**3)"
   ]
  },
  {
   "cell_type": "code",
   "execution_count": 17,
   "id": "a2d5849d-83cc-4785-bd77-d6cc20d54dbc",
   "metadata": {},
   "outputs": [
    {
     "name": "stdout",
     "output_type": "stream",
     "text": [
      "mca student\n"
     ]
    }
   ],
   "source": [
    "print('mca student')"
   ]
  },
  {
   "cell_type": "code",
   "execution_count": 18,
   "id": "b7590e25-6ed1-46bb-90cf-536bb6f7fd91",
   "metadata": {},
   "outputs": [
    {
     "name": "stdout",
     "output_type": "stream",
     "text": [
      "mca's students\n"
     ]
    }
   ],
   "source": [
    "print(\"mca's students\")"
   ]
  },
  {
   "cell_type": "code",
   "execution_count": 23,
   "id": "153442be-8b07-42b3-816a-ea5cf0e97257",
   "metadata": {},
   "outputs": [
    {
     "name": "stdout",
     "output_type": "stream",
     "text": [
      "mca's students\n"
     ]
    }
   ],
   "source": [
    "print(\"mca's students\")"
   ]
  },
  {
   "cell_type": "code",
   "execution_count": 25,
   "id": "a6bad264-8934-44bf-b473-e40b41e368c5",
   "metadata": {},
   "outputs": [
    {
     "name": "stdout",
     "output_type": "stream",
     "text": [
      "mca students's\n"
     ]
    }
   ],
   "source": [
    "print(\"mca students's\")"
   ]
  },
  {
   "cell_type": "code",
   "execution_count": 26,
   "id": "b98be316-4f0a-441b-a842-71b2ceab8127",
   "metadata": {},
   "outputs": [
    {
     "name": "stdout",
     "output_type": "stream",
     "text": [
      "mca'sstudents's\n"
     ]
    }
   ],
   "source": [
    "print(\"mca's\" \"students's\")"
   ]
  },
  {
   "cell_type": "code",
   "execution_count": 28,
   "id": "67a6f5a3-b399-47f5-8eda-9d5c3f86a252",
   "metadata": {},
   "outputs": [
    {
     "name": "stdout",
     "output_type": "stream",
     "text": [
      "mca's students's\n"
     ]
    }
   ],
   "source": [
    "print(\"mca's\" \" \" \"students's\")"
   ]
  },
  {
   "cell_type": "code",
   "execution_count": 29,
   "id": "e8ec182e-b45b-4db8-886e-681f3414a83f",
   "metadata": {},
   "outputs": [
    {
     "name": "stdout",
     "output_type": "stream",
     "text": [
      "mca's students's\n"
     ]
    }
   ],
   "source": [
    "print(\"mca's\" \" \" \"students's\")"
   ]
  },
  {
   "cell_type": "code",
   "execution_count": 30,
   "id": "af9a7a80-8d7b-41d6-a23f-064887453ea4",
   "metadata": {},
   "outputs": [
    {
     "name": "stdout",
     "output_type": "stream",
     "text": [
      "arjun\n"
     ]
    }
   ],
   "source": [
    "n=\"arjun\"\n",
    "print(n)"
   ]
  },
  {
   "cell_type": "code",
   "execution_count": 31,
   "id": "b2cf63a9-c79e-4614-864d-7b708ab665b8",
   "metadata": {},
   "outputs": [
    {
     "name": "stdout",
     "output_type": "stream",
     "text": [
      "name= arjun\n"
     ]
    }
   ],
   "source": [
    "n=\"arjun\"\n",
    "print('name=',n)"
   ]
  },
  {
   "cell_type": "code",
   "execution_count": 35,
   "id": "47c1233c-bf54-4594-91c7-868c4c81c11e",
   "metadata": {},
   "outputs": [
    {
     "name": "stdout",
     "output_type": "stream",
     "text": [
      "name = arj\n"
     ]
    }
   ],
   "source": [
    "n='arjun'\n",
    "print('name =',n[0:3])"
   ]
  },
  {
   "cell_type": "code",
   "execution_count": 38,
   "id": "c84b9b0c-6f68-4af8-83aa-38cd04b084a5",
   "metadata": {},
   "outputs": [
    {
     "name": "stdout",
     "output_type": "stream",
     "text": [
      "name = rjun\n"
     ]
    }
   ],
   "source": [
    "n='arjun'\n",
    "print('name =',n[1:])"
   ]
  },
  {
   "cell_type": "code",
   "execution_count": 41,
   "id": "8a1aef6c-3e6b-4d2a-9407-77f0cb6febdf",
   "metadata": {},
   "outputs": [
    {
     "name": "stdout",
     "output_type": "stream",
     "text": [
      "name = arj\n"
     ]
    }
   ],
   "source": [
    "n='arjun'\n",
    "print('name =',n[:3])"
   ]
  },
  {
   "cell_type": "code",
   "execution_count": null,
   "id": "e5f172d0-453c-4dc3-b82a-84a017fb5042",
   "metadata": {},
   "outputs": [],
   "source": []
  }
 ],
 "metadata": {
  "kernelspec": {
   "display_name": "Python 3 (ipykernel)",
   "language": "python",
   "name": "python3"
  },
  "language_info": {
   "codemirror_mode": {
    "name": "ipython",
    "version": 3
   },
   "file_extension": ".py",
   "mimetype": "text/x-python",
   "name": "python",
   "nbconvert_exporter": "python",
   "pygments_lexer": "ipython3",
   "version": "3.11.9"
  }
 },
 "nbformat": 4,
 "nbformat_minor": 5
}
