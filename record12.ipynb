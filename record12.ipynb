{
 "cells": [
  {
   "cell_type": "code",
   "execution_count": 13,
   "id": "b5de3dc0-0fc0-4e87-bff5-fcaeec7917fa",
   "metadata": {},
   "outputs": [
    {
     "name": "stdin",
     "output_type": "stream",
     "text": [
      "Enter a numbers -1,-2,-3,0,1,2,3\n"
     ]
    },
    {
     "name": "stdout",
     "output_type": "stream",
     "text": [
      "Numbers: [-1, -2, -3, 0, 1, 2, 3]\n",
      "positive numbers: [1, 2, 3]\n",
      "\n"
     ]
    },
    {
     "name": "stdin",
     "output_type": "stream",
     "text": [
      "Enter a number 7\n"
     ]
    },
    {
     "name": "stdout",
     "output_type": "stream",
     "text": [
      "7\n",
      "square root of the [1, 4, 9, 16, 25, 36, 49]\n",
      "\n"
     ]
    },
    {
     "name": "stdin",
     "output_type": "stream",
     "text": [
      "Enter a word python\n"
     ]
    },
    {
     "name": "stdout",
     "output_type": "stream",
     "text": [
      "python\n",
      "vowel's of this word ['o']\n",
      "\n"
     ]
    },
    {
     "name": "stdin",
     "output_type": "stream",
     "text": [
      "Enter a word python\n"
     ]
    },
    {
     "name": "stdout",
     "output_type": "stream",
     "text": [
      "python\n",
      "Ordinal values of this word [112, 121, 116, 104, 111, 110]\n"
     ]
    }
   ],
   "source": [
    "#List comprehensions: \n",
    "\n",
    "#  (a) Generate positive list of numbers from a given list of integers \n",
    "\n",
    "num=list(map(int, input(\"Enter a numbers\").split(\",\")))\n",
    "print(\"Numbers:\",num)\n",
    "positive_list=[x for x in num if x>0]\n",
    "print(\"positive numbers:\",positive_list)\n",
    "print()\n",
    "\n",
    "#  (b) Square of N numbers \n",
    "\n",
    "n= int(input(\"Enter a number\"))\n",
    "print(n)\n",
    "square=[x**2 for x in range(1, n+1)]\n",
    "print(\"square root of the\",square)\n",
    "print()\n",
    "\n",
    "# (c) Form a list of vowels selected from a given word \n",
    "\n",
    "word=input(\"Enter a word\")\n",
    "print(word)\n",
    "vowel=[ch for ch in word if ch.lower() in 'aeiou']\n",
    "print(\"vowel's of this word\",vowel)\n",
    "print()\n",
    "\n",
    "# (d) List ordinal value of each element of a word (Hint: use ord() to get ordinal values)\n",
    "\n",
    "word=input(\"Enter a word\")\n",
    "print(word)\n",
    "ordinal=[ord(ch)for ch in word]\n",
    "print(\"Ordinal values of this word\",ordinal)"
   ]
  },
  {
   "cell_type": "code",
   "execution_count": null,
   "id": "903cf808-b6b7-460f-9b11-9688f6a401ee",
   "metadata": {},
   "outputs": [],
   "source": []
  }
 ],
 "metadata": {
  "kernelspec": {
   "display_name": "Python 3 (ipykernel)",
   "language": "python",
   "name": "python3"
  },
  "language_info": {
   "codemirror_mode": {
    "name": "ipython",
    "version": 3
   },
   "file_extension": ".py",
   "mimetype": "text/x-python",
   "name": "python",
   "nbconvert_exporter": "python",
   "pygments_lexer": "ipython3",
   "version": "3.11.9"
  }
 },
 "nbformat": 4,
 "nbformat_minor": 5
}
