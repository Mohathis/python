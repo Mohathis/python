{
 "cells": [
  {
   "cell_type": "code",
   "execution_count": 6,
   "id": "ff4ec8d1-ffa8-4dba-a01d-abd019dc93cd",
   "metadata": {},
   "outputs": [
    {
     "name": "stdin",
     "output_type": "stream",
     "text": [
      "enter three colors red,blue,yellow\n"
     ]
    },
    {
     "name": "stdout",
     "output_type": "stream",
     "text": [
      "First color: red\n",
      "Last color: yellow\n"
     ]
    }
   ],
   "source": [
    "#Create a list of colors from comma-separated color names entered by user,Display first and last colors\n",
    "\n",
    "colors=input(\"enter three colors\")\n",
    "color_list=colors.split(\",\")\n",
    "\n",
    "print(\"First color:\",color_list[0])\n",
    "print(\"Last color:\",color_list[2])"
   ]
  },
  {
   "cell_type": "code",
   "execution_count": 3,
   "id": "7f5bd322-5b65-4568-bebc-19b28ac4f52c",
   "metadata": {},
   "outputs": [
    {
     "name": "stdin",
     "output_type": "stream",
     "text": [
      "enter a file name record5.ipynb\n"
     ]
    },
    {
     "name": "stdout",
     "output_type": "stream",
     "text": [
      "File Extension: ipynb\n"
     ]
    }
   ],
   "source": [
    "#write a python program to accept a filename from the user,print extension of that\n",
    "\n",
    "filename=input(\"enter a file name\")\n",
    "extension= filename.split(\".\")[-1]\n",
    "print(\"File Extension:\",extension)"
   ]
  },
  {
   "cell_type": "code",
   "execution_count": 9,
   "id": "3a34eb68-556f-4e32-acd9-8537b2f64d8c",
   "metadata": {},
   "outputs": [
    {
     "name": "stdin",
     "output_type": "stream",
     "text": [
      "enter a numbers 4,6,7\n"
     ]
    },
    {
     "name": "stdout",
     "output_type": "stream",
     "text": [
      "List: [4, 6, 7]\n",
      "sum of items 17\n"
     ]
    }
   ],
   "source": [
    "#write a python program to accept a sequence comma-separated numbers from user and generate  list with those numbers and find sum of all items in that list\n",
    "\n",
    "numbers=input(\"enter a numbers\")\n",
    "num_list=list(map(int, numbers.split(\",\")))\n",
    "\n",
    "total=sum(num_list)\n",
    "\n",
    "print(\"List:\",num_list)\n",
    "print(\"sum of items\",total)"
   ]
  },
  {
   "cell_type": "code",
   "execution_count": null,
   "id": "a5835354-98dc-475d-b5ce-a4c97a85dc3d",
   "metadata": {},
   "outputs": [],
   "source": []
  }
 ],
 "metadata": {
  "kernelspec": {
   "display_name": "Python 3 (ipykernel)",
   "language": "python",
   "name": "python3"
  },
  "language_info": {
   "codemirror_mode": {
    "name": "ipython",
    "version": 3
   },
   "file_extension": ".py",
   "mimetype": "text/x-python",
   "name": "python",
   "nbconvert_exporter": "python",
   "pygments_lexer": "ipython3",
   "version": "3.11.9"
  }
 },
 "nbformat": 4,
 "nbformat_minor": 5
}
