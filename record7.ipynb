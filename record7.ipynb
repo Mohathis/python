{
 "cells": [
  {
   "cell_type": "code",
   "execution_count": 6,
   "id": "0332ef0f-70ae-46b9-9ff2-7191864d10b1",
   "metadata": {},
   "outputs": [
    {
     "name": "stdout",
     "output_type": "stream",
     "text": [
      "Even numbers (2, 4, 6, 8, 10, 12, 14, 16, 18, 20, 22, 24)\n",
      "Sum of even numbers: 156\n"
     ]
    }
   ],
   "source": [
    "#write a python program to print all even numbers from1 to 25 and calculate sum.\n",
    "#(using the range() function directly without a loop or conditions)\n",
    "\n",
    "\n",
    "even_numbers=tuple(range(2,26,2))\n",
    "\n",
    "total=sum(even_numbers)\n",
    "print(\"Even numbers\",even_numbers)\n",
    "print(\"Sum of even numbers:\",total)"
   ]
  },
  {
   "cell_type": "code",
   "execution_count": 8,
   "id": "66bc4a73-f6a1-41c8-9d70-96e54af72993",
   "metadata": {},
   "outputs": [
    {
     "name": "stdin",
     "output_type": "stream",
     "text": [
      "Enter a range limit 10\n"
     ]
    },
    {
     "name": "stdout",
     "output_type": "stream",
     "text": [
      "Numbers in reverse order (10, 9, 8, 7, 6, 5, 4, 3, 2, 1)\n",
      "Sum of numbers 55\n"
     ]
    }
   ],
   "source": [
    "#write a python program to print all in reverse order and calculate their sum\n",
    "\n",
    "n=int(input(\"Enter a range limit\"))\n",
    "\n",
    "numbers=tuple(range(n,0,-1))\n",
    "\n",
    "total=sum(numbers)\n",
    "\n",
    "print(\"Numbers in reverse order\",numbers)\n",
    "print(\"Sum of numbers\",total)"
   ]
  },
  {
   "cell_type": "code",
   "execution_count": null,
   "id": "1a3502f2-c259-4355-b96a-24e21b826c22",
   "metadata": {},
   "outputs": [],
   "source": []
  }
 ],
 "metadata": {
  "kernelspec": {
   "display_name": "Python 3 (ipykernel)",
   "language": "python",
   "name": "python3"
  },
  "language_info": {
   "codemirror_mode": {
    "name": "ipython",
    "version": 3
   },
   "file_extension": ".py",
   "mimetype": "text/x-python",
   "name": "python",
   "nbconvert_exporter": "python",
   "pygments_lexer": "ipython3",
   "version": "3.11.9"
  }
 },
 "nbformat": 4,
 "nbformat_minor": 5
}
