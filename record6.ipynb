{
 "cells": [
  {
   "cell_type": "code",
   "execution_count": 1,
   "id": "8142551f-8aca-432b-8921-f7ef3c496e6e",
   "metadata": {},
   "outputs": [
    {
     "name": "stdin",
     "output_type": "stream",
     "text": [
      "Enter a number 7 2 8 4 9 2 6 \n"
     ]
    },
    {
     "name": "stdout",
     "output_type": "stream",
     "text": [
      "Third element 8\n",
      "Third last number 9\n"
     ]
    }
   ],
   "source": [
    "#write a python program to get the 3rd element and 3rd element from last of a tuple\n",
    "\n",
    "numbers=tuple(map(int, input(\"Enter a number\").split(\",\")))\n",
    "third_element=numbers[2]\n",
    "third_last=numbers[-3]\n",
    "\n",
    "print(\"Third element\",third_element)\n",
    "print(\"Third last number\",third_last)"
   ]
  },
  {
   "cell_type": "code",
   "execution_count": 2,
   "id": "26e34802-7e8f-4d6d-9525-53d5fc3d8415",
   "metadata": {},
   "outputs": [
    {
     "name": "stdin",
     "output_type": "stream",
     "text": [
      "Enter a number 10 20 30 40 50\n"
     ]
    },
    {
     "name": "stdout",
     "output_type": "stream",
     "text": [
      "average is: 30.0\n"
     ]
    }
   ],
   "source": [
    "#write a python program to accept a sequence comma-separated numbers from user and generate tuple with those numbers and find average of all items in that tuple\n",
    "\n",
    "numbers=tuple(map(int, input(\"Enter a number\").split(\",\")))\n",
    "average=sum(numbers)/len(numbers)\n",
    "print(\"average is:\",average)"
   ]
  },
  {
   "cell_type": "code",
   "execution_count": null,
   "id": "da222ab2-c210-4f97-aba9-1626b17214f8",
   "metadata": {},
   "outputs": [],
   "source": []
  }
 ],
 "metadata": {
  "kernelspec": {
   "display_name": "Python 3 (ipykernel)",
   "language": "python",
   "name": "python3"
  },
  "language_info": {
   "codemirror_mode": {
    "name": "ipython",
    "version": 3
   },
   "file_extension": ".py",
   "mimetype": "text/x-python",
   "name": "python",
   "nbconvert_exporter": "python",
   "pygments_lexer": "ipython3",
   "version": "3.11.9"
  }
 },
 "nbformat": 4,
 "nbformat_minor": 5
}
