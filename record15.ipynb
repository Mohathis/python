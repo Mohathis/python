{
 "cells": [
  {
   "cell_type": "code",
   "execution_count": 8,
   "id": "68138941-7647-46a0-8cfa-43f5ba1859f8",
   "metadata": {},
   "outputs": [
    {
     "name": "stdin",
     "output_type": "stream",
     "text": [
      "Enter length of rectangle 1: 8\n",
      "Enter breadth of rectangle 1: 4\n",
      "Enter length of rectangle 2: 10\n",
      "Enter breadth of rectangle 2: 4\n"
     ]
    },
    {
     "name": "stdout",
     "output_type": "stream",
     "text": [
      "area of rectangle 1: 32\n",
      "perimeter of rectangle 1: 64\n",
      "area of rectangle 2: 40\n",
      "perimeter of rectangle 2: 80\n",
      "rectangle 2 is great!\n"
     ]
    }
   ],
   "source": [
    "class rectangle:\n",
    "    def cal(self,l,b):\n",
    "        self.l=l\n",
    "        self.b=b\n",
    "\n",
    "    def area(self):\n",
    "        return self.l*self.b\n",
    "\n",
    "    def perimeter(self):\n",
    "        return 2*(self.l*self.b)\n",
    "\n",
    "    def result(self):\n",
    "        print(\"area of rectangle 1:\",r1.area())\n",
    "        print(\"perimeter of rectangle 1:\",r1.perimeter())\n",
    "\n",
    "        print(\"area of rectangle 2:\",r2.area())\n",
    "        print(\"perimeter of rectangle 2:\",r2.perimeter())\n",
    "\n",
    "\n",
    "r1=rectangle()\n",
    "r2=rectangle()\n",
    "\n",
    "l1=int(input(\"Enter length of rectangle 1:\"))\n",
    "b1=int(input(\"Enter breadth of rectangle 1:\"))\n",
    "l2=int(input(\"Enter length of rectangle 2:\"))\n",
    "b2=int(input(\"Enter breadth of rectangle 2:\"))\n",
    "\n",
    "r1.cal(l1,b1)\n",
    "r2.cal(l2,b2)\n",
    "r1.result()\n",
    "\n",
    "\n",
    "p=r1.area()\n",
    "q=r2.area()\n",
    "\n",
    "if(p>q):\n",
    "    print(\"rectangle 1 is great!\")\n",
    "\n",
    "elif(p<q):\n",
    "    print(\"rectangle 2 is great!\")\n",
    "\n",
    "else:\n",
    "    print(\"both rectangles are equal!\")"
   ]
  },
  {
   "cell_type": "code",
   "execution_count": null,
   "id": "71ef69da-85ff-4c5c-b51a-866ea27d0f76",
   "metadata": {},
   "outputs": [],
   "source": []
  }
 ],
 "metadata": {
  "kernelspec": {
   "display_name": "Python 3 (ipykernel)",
   "language": "python",
   "name": "python3"
  },
  "language_info": {
   "codemirror_mode": {
    "name": "ipython",
    "version": 3
   },
   "file_extension": ".py",
   "mimetype": "text/x-python",
   "name": "python",
   "nbconvert_exporter": "python",
   "pygments_lexer": "ipython3",
   "version": "3.11.9"
  }
 },
 "nbformat": 4,
 "nbformat_minor": 5
}
