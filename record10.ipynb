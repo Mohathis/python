{
 "cells": [
  {
   "cell_type": "code",
   "execution_count": 16,
   "id": "d2ea57b3-fa3e-471c-bd93-cebd4f867b02",
   "metadata": {},
   "outputs": [
    {
     "name": "stdin",
     "output_type": "stream",
     "text": [
      "Enter a list 1 value 2,5,7\n",
      "Enter a list 2 value 4,5,3,2\n"
     ]
    },
    {
     "name": "stdout",
     "output_type": "stream",
     "text": [
      "list are of different length\n",
      "The sum of both list are equal\n",
      "Same values in both list\n"
     ]
    }
   ],
   "source": [
    "#enter 2 lists of integers.\n",
    "#check (a) whether list are of same length (b) whether list sums to same value (c) whether any value occur in both\n",
    "\n",
    "list1=list(map(int, input(\"Enter a list 1 value\").split(\",\")))\n",
    "list2=list(map(int, input(\"Enter a list 2 value\").split(\",\")))\n",
    "\n",
    "if len(list1) == len(list2):\n",
    "    print(\"both list are same length\")\n",
    "    \n",
    "else:\n",
    "    print(\"list are of different length\")\n",
    "\n",
    "if sum(list1) == sum(list2):\n",
    "    print(\"The sum of both list are equal\")\n",
    "\n",
    "else:\n",
    "    print(\"The sum of both list are not equal\")\n",
    "\n",
    "same_value= set(list1) & set(list2)\n",
    "if same_value:\n",
    "    print(\"Same values in both list\")\n",
    "\n",
    "else:\n",
    "    print(\"No same values in both list\")"
   ]
  },
  {
   "cell_type": "code",
   "execution_count": 17,
   "id": "6abedae5-9bfc-49e3-9bd1-d113199063a1",
   "metadata": {},
   "outputs": [
    {
     "name": "stdin",
     "output_type": "stream",
     "text": [
      "Enter a word: playing\n"
     ]
    },
    {
     "name": "stdout",
     "output_type": "stream",
     "text": [
      "Modified word: playingly\n"
     ]
    }
   ],
   "source": [
    "#add 'ing' at the end of a given string . if it already ends with 'ing' then add 'ly'\n",
    "\n",
    "word=input(\"Enter a word:\")\n",
    "\n",
    "if word.endswith(\"ing\"):\n",
    "         word += \"ly\"\n",
    "else:\n",
    "         word += \"ing\"\n",
    "\n",
    "print(\"Modified word:\",word)\n",
    "  \n",
    " "
   ]
  },
  {
   "cell_type": "code",
   "execution_count": null,
   "id": "59e44d95-85e1-4eaf-aca3-6d234aa757b8",
   "metadata": {},
   "outputs": [],
   "source": []
  }
 ],
 "metadata": {
  "kernelspec": {
   "display_name": "Python 3 (ipykernel)",
   "language": "python",
   "name": "python3"
  },
  "language_info": {
   "codemirror_mode": {
    "name": "ipython",
    "version": 3
   },
   "file_extension": ".py",
   "mimetype": "text/x-python",
   "name": "python",
   "nbconvert_exporter": "python",
   "pygments_lexer": "ipython3",
   "version": "3.11.9"
  }
 },
 "nbformat": 4,
 "nbformat_minor": 5
}
