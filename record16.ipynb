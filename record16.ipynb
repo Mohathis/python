{
 "cells": [
  {
   "cell_type": "code",
   "execution_count": null,
   "id": "22ef2f48-ce97-4978-9e9c-9e12f85495ca",
   "metadata": {},
   "outputs": [
    {
     "name": "stdin",
     "output_type": "stream",
     "text": [
      "Enter a Account Number: 8326 7296 3805\n",
      "Enter a Name James Albert\n",
      "Enter a Account Type Savings\n",
      "Enter a current balance: 7000.00\n"
     ]
    },
    {
     "name": "stdout",
     "output_type": "stream",
     "text": [
      "\n",
      "1.Deposit\n",
      "2.Withdraw\n",
      "3.Display Account details\n",
      "4.Exit\n"
     ]
    },
    {
     "name": "stdin",
     "output_type": "stream",
     "text": [
      "Enter your choice: 1\n",
      "Enter amount to deposit: 1000.00\n"
     ]
    },
    {
     "name": "stdout",
     "output_type": "stream",
     "text": [
      "amount deposited 1000.0\n",
      "\n",
      "1.Deposit\n",
      "2.Withdraw\n",
      "3.Display Account details\n",
      "4.Exit\n"
     ]
    },
    {
     "name": "stdin",
     "output_type": "stream",
     "text": [
      "Enter your choice: 3\n"
     ]
    },
    {
     "name": "stdout",
     "output_type": "stream",
     "text": [
      "\n",
      "Account No: 8326 7296 3805\n",
      "Name: James Albert\n",
      "Account Type: Savings\n",
      "Balance: 8000.0\n",
      "\n",
      "1.Deposit\n",
      "2.Withdraw\n",
      "3.Display Account details\n",
      "4.Exit\n"
     ]
    }
   ],
   "source": [
    "class bank:\n",
    "    def __init__(self,ac_no,name,ac_type,balance):\n",
    "        self.ac_no=ac_no\n",
    "        self.name=name\n",
    "        self.ac_type=ac_type\n",
    "        self.balance=balance\n",
    "\n",
    "    def deposit(self,amount):\n",
    "        self.balance=self.balance+amount\n",
    "        print(\"amount deposited\",amount)\n",
    "\n",
    "    def withdraw(self,amount):\n",
    "        if amount <= self.balance:\n",
    "            self.balance=self.balance-amount\n",
    "            print(\"amount withdrawed\",amount)\n",
    "        else:\n",
    "            print(\"Insufficient balance\")\n",
    "\n",
    "    def display(self):\n",
    "        print(\"\\nAccount No:\",self.ac_no)\n",
    "        print(\"Name:\", self.name)\n",
    "        print(\"Account Type:\", self.ac_type)\n",
    "        print(\"Balance:\", self.balance)\n",
    "\n",
    "\n",
    "ac_no=input(\"Enter a Account Number:\")\n",
    "name=input(\"Enter a Name\")\n",
    "ac_type=input(\"Enter a Account Type\")\n",
    "balance=float(input(\"Enter a current balance:\"))\n",
    "\n",
    "t=bank(ac_no,name,ac_type,balance)\n",
    "\n",
    "while True:\n",
    "    print(\"\\n1.Deposit\")\n",
    "    print(\"2.Withdraw\")\n",
    "    print(\"3.Display Account details\")\n",
    "    print(\"4.Exit\")\n",
    "\n",
    "    ch=input(\"Enter your choice:\")\n",
    "\n",
    "    if ch=='1':\n",
    "        amount = float(input(\"Enter amount to deposit:\"))\n",
    "        t.deposit(amount)\n",
    "\n",
    "    elif ch=='2':\n",
    "        amount = float(input(\"Enter amount to withdraw:\"))\n",
    "        t.withdraw(amount)\n",
    "        \n",
    "    elif ch=='3':\n",
    "        t.display()\n",
    "        \n",
    "    elif ch=='4':\n",
    "        print(\"Thank you...\")\n",
    "        break\n",
    "\n",
    "    else:\n",
    "        print(\"Invalid choice,Try Again...\")\n",
    "        \n",
    "        "
   ]
  },
  {
   "cell_type": "code",
   "execution_count": null,
   "id": "0a2947a1-0d14-4af1-8e29-d5992214dbb8",
   "metadata": {},
   "outputs": [],
   "source": []
  }
 ],
 "metadata": {
  "kernelspec": {
   "display_name": "Python 3 (ipykernel)",
   "language": "python",
   "name": "python3"
  },
  "language_info": {
   "codemirror_mode": {
    "name": "ipython",
    "version": 3
   },
   "file_extension": ".py",
   "mimetype": "text/x-python",
   "name": "python",
   "nbconvert_exporter": "python",
   "pygments_lexer": "ipython3",
   "version": "3.11.9"
  }
 },
 "nbformat": 4,
 "nbformat_minor": 5
}
