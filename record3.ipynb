{
 "cells": [
  {
   "cell_type": "code",
   "execution_count": 2,
   "id": "0935e361-75d9-4699-9976-decf5f39ab96",
   "metadata": {},
   "outputs": [
    {
     "name": "stdin",
     "output_type": "stream",
     "text": [
      "Enter the first number 5\n",
      "Enter the second number 17\n",
      "Enter the third number 12\n"
     ]
    },
    {
     "name": "stdout",
     "output_type": "stream",
     "text": [
      "Biggest number is: 17.0\n"
     ]
    }
   ],
   "source": [
    "#biggest three numbers\n",
    "\n",
    "n1=float(input(\"Enter the first number\"))\n",
    "n2=float(input(\"Enter the second number\"))\n",
    "n3=float(input(\"Enter the third number\"))\n",
    "\n",
    "biggest=max(n1,n2,n3)\n",
    "\n",
    "print(\"Biggest number is:\", biggest)"
   ]
  },
  {
   "cell_type": "code",
   "execution_count": null,
   "id": "39db9e25-9875-465d-b89b-ea928107f512",
   "metadata": {},
   "outputs": [],
   "source": []
  }
 ],
 "metadata": {
  "kernelspec": {
   "display_name": "Python 3 (ipykernel)",
   "language": "python",
   "name": "python3"
  },
  "language_info": {
   "codemirror_mode": {
    "name": "ipython",
    "version": 3
   },
   "file_extension": ".py",
   "mimetype": "text/x-python",
   "name": "python",
   "nbconvert_exporter": "python",
   "pygments_lexer": "ipython3",
   "version": "3.11.9"
  }
 },
 "nbformat": 4,
 "nbformat_minor": 5
}
