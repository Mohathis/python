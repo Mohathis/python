
{
 "cells": [
  {
   "cell_type": "code",
   "execution_count": 13,
   "id": "4fe9605a-226d-4ef5-99a4-55b8cad0b45c",
   "metadata": {},
   "outputs": [
    {
     "name": "stdin",
     "output_type": "stream",
     "text": [
      "enter a number 5\n"
     ]
    },
    {
     "name": "stdout",
     "output_type": "stream",
     "text": [
      "Result 615\n"
     ]
    }
   ],
   "source": [
    "#write a python program that accepts an integer (n) and computes the value of n+nn+nnn.\n",
    "n=int(input(\"enter a number\"))\n",
    "nn=n*10+n\n",
    "nnn=n*100+nn\n",
    "\n",
    "result=n+nn+nnn\n",
    "print(\"Result\",result)"
   ]
  },
  {
   "cell_type": "code",
   "execution_count": 10,
   "id": "3c82be03-088e-4cd4-820f-0d62bb88413c",
   "metadata": {},
   "outputs": [
    {
     "name": "stdin",
     "output_type": "stream",
     "text": [
      "Enter the number 5\n"
     ]
    },
    {
     "name": "stdout",
     "output_type": "stream",
     "text": [
      "The area of circle is : 78.53981633974483\n"
     ]
    }
   ],
   "source": [
    "#input the radious of a circle and compute the area(import math)\n",
    "\n",
    "import math\n",
    "\n",
    "radious=float(input('Enter the number'))\n",
    "\n",
    "area = math.pi * radious * radious\n",
    "\n",
    "print('The area of circle is :',area)"
   ]
  },
  {
   "cell_type": "code",
   "execution_count": null,
   "id": "d5827d42-7758-4b07-b132-a8c7cd7d849f",
   "metadata": {},
   "outputs": [],
   "source": []
  }
 ],
 "metadata": {
  "kernelspec": {
   "display_name": "Python 3 (ipykernel)",
   "language": "python",
   "name": "python3"
  },
  "language_info": {
   "codemirror_mode": {
    "name": "ipython",
    "version": 3
   },
   "file_extension": ".py",
   "mimetype": "text/x-python",
   "name": "python",
   "nbconvert_exporter": "python",
   "pygments_lexer": "ipython3",
   "version": "3.11.9"
  }
 },
 "nbformat": 4,
 "nbformat_minor": 5
}
