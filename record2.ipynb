{
 "cells": [
  {
   "cell_type": "code",
   "execution_count": 3,
   "id": "933c9103-3eb6-4e4b-8f63-cca77451df91",
   "metadata": {},
   "outputs": [
    {
     "name": "stdin",
     "output_type": "stream",
     "text": [
      "Enter the temperature in celsius: 37\n"
     ]
    },
    {
     "name": "stdout",
     "output_type": "stream",
     "text": [
      "Temperature in Fahrenheit: 98.6\n"
     ]
    }
   ],
   "source": [
    "#convert celsius to fahrenheit\n",
    "\n",
    "celsius=float(input(\"Enter the temperature in celsius:\"))\n",
    "fahrenheit=(celsius * 9/5) + 32\n",
    "print(\"Temperature in Fahrenheit:\",fahrenheit)"
   ]
  },
  {
   "cell_type": "code",
   "execution_count": 4,
   "id": "58afa23e-c1de-4b0f-b68a-1f0c90826517",
   "metadata": {},
   "outputs": [
    {
     "name": "stdin",
     "output_type": "stream",
     "text": [
      "Enter the distance in kilometers: 10\n"
     ]
    },
    {
     "name": "stdout",
     "output_type": "stream",
     "text": [
      "Distance in Miles: 6.21\n"
     ]
    }
   ],
   "source": [
    "#convert to kilometers to miles\n",
    "\n",
    "kilometer=float(input(\"Enter the distance in kilometers:\"))\n",
    "miles=kilometer * 0.621371\n",
    "print(\"Distance in Miles:\",round(miles,2))"
   ]
  },
  {
   "cell_type": "code",
   "execution_count": null,
   "id": "508b68a7-dac1-4c24-8856-a9b59146cf52",
   "metadata": {},
   "outputs": [],
   "source": []
  }
 ],
 "metadata": {
  "kernelspec": {
   "display_name": "Python 3 (ipykernel)",
   "language": "python",
   "name": "python3"
  },
  "language_info": {
   "codemirror_mode": {
    "name": "ipython",
    "version": 3
   },
   "file_extension": ".py",
   "mimetype": "text/x-python",
   "name": "python",
   "nbconvert_exporter": "python",
   "pygments_lexer": "ipython3",
   "version": "3.11.9"
  }
 },
 "nbformat": 4,
 "nbformat_minor": 5
}
