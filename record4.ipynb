{
 "cells": [
  {
   "cell_type": "code",
   "execution_count": 5,
   "id": "23f8c786-1ca9-4836-8240-bafee9f14b1c",
   "metadata": {},
   "outputs": [
    {
     "name": "stdin",
     "output_type": "stream",
     "text": [
      "enter a word python\n"
     ]
    },
    {
     "name": "stdout",
     "output_type": "stream",
     "text": [
      "Modified word: nythop\n"
     ]
    }
   ],
   "source": [
    "#write a python program to change a given string to a newstring where the first and last chars have been changed\n",
    "\n",
    "word=input(\"enter a word\")\n",
    "new_word=word[-1] + word[1:-1] + word[0]\n",
    "print(\"Modified word:\",new_word)"
   ]
  },
  {
   "cell_type": "code",
   "execution_count": 6,
   "id": "63dc576a-edeb-4bbc-92d9-07cc7e93b578",
   "metadata": {},
   "outputs": [
    {
     "name": "stdin",
     "output_type": "stream",
     "text": [
      "enter a word python\n"
     ]
    },
    {
     "name": "stdout",
     "output_type": "stream",
     "text": [
      "Modified word: pyon\n"
     ]
    }
   ],
   "source": [
    "#write a python program to string madeof the first 2 and the last chars from a given a string\n",
    "\n",
    "word=input(\"enter a word\")\n",
    "new_word=word[:2] + word[-2:]\n",
    "print(\"Modified word:\",new_word)"
   ]
  },
  {
   "cell_type": "code",
   "execution_count": 7,
   "id": "e2c98bd9-51c9-4d9f-a679-d1ff34e24b44",
   "metadata": {},
   "outputs": [
    {
     "name": "stdin",
     "output_type": "stream",
     "text": [
      "enter a first string hello\n",
      "enter a second string world\n"
     ]
    },
    {
     "name": "stdout",
     "output_type": "stream",
     "text": [
      "Modified word: wollo herld\n"
     ]
    }
   ],
   "source": [
    "#write a python program to get a single string from two given strings, \n",
    "#separated by a space and swap the first two characters of each string\n",
    "\n",
    "str1=input(\"enter a first string\")\n",
    "str2=input(\"enter a second string\")\n",
    "\n",
    "new_str1= str2[:2] + str1[2:]\n",
    "new_str2= str1[:2] + str2[2:]\n",
    "\n",
    "result= new_str1 + \" \" + new_str2\n",
    "\n",
    "print(\"Modified word:\",result)"
   ]
  },
  {
   "cell_type": "code",
   "execution_count": 8,
   "id": "653c6e9e-1bab-41e5-aecd-a059b4e150d9",
   "metadata": {},
   "outputs": [
    {
     "name": "stdin",
     "output_type": "stream",
     "text": [
      "Enter a word malayalam\n"
     ]
    },
    {
     "name": "stdout",
     "output_type": "stream",
     "text": [
      "Modified word: malayala$\n"
     ]
    }
   ],
   "source": [
    "#write a python program to get a string from a given string where all occurences of its first char have been changes to $, except the first char itself.\n",
    "\n",
    "word =input(\"Enter a word\")\n",
    "first_word= word[0]\n",
    "new_word= first_word + word[1:].replace(first_word, \"$\")\n",
    "print(\"Modified word:\",new_word)"
   ]
  },
  {
   "cell_type": "code",
   "execution_count": null,
   "id": "0b604f06-cef8-4b4a-91ad-16a9dd43815d",
   "metadata": {},
   "outputs": [],
   "source": []
  }
 ],
 "metadata": {
  "kernelspec": {
   "display_name": "Python 3 (ipykernel)",
   "language": "python",
   "name": "python3"
  },
  "language_info": {
   "codemirror_mode": {
    "name": "ipython",
    "version": 3
   },
   "file_extension": ".py",
   "mimetype": "text/x-python",
   "name": "python",
   "nbconvert_exporter": "python",
   "pygments_lexer": "ipython3",
   "version": "3.11.9"
  }
 },
 "nbformat": 4,
 "nbformat_minor": 5
}
