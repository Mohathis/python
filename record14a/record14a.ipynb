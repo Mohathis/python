{
 "cells": [
  {
   "cell_type": "code",
   "execution_count": 5,
   "id": "ae0419d3-6f32-4cd1-9488-3ce9605d20da",
   "metadata": {},
   "outputs": [
    {
     "name": "stdout",
     "output_type": "stream",
     "text": [
      "1.Rectangle\n",
      "2.Circle\n",
      "3.Exit\n"
     ]
    },
    {
     "name": "stdin",
     "output_type": "stream",
     "text": [
      "Your option 1\n"
     ]
    },
    {
     "name": "stdout",
     "output_type": "stream",
     "text": [
      "\n",
      "Rectangle:\n"
     ]
    },
    {
     "name": "stdin",
     "output_type": "stream",
     "text": [
      "Enter first numbers: 5\n",
      "Enter second numbers: 2\n"
     ]
    },
    {
     "name": "stdout",
     "output_type": "stream",
     "text": [
      "Area of rectangle 10\n",
      "Area of 14\n",
      "1.Rectangle\n",
      "2.Circle\n",
      "3.Exit\n"
     ]
    },
    {
     "name": "stdin",
     "output_type": "stream",
     "text": [
      "Your option 2\n"
     ]
    },
    {
     "name": "stdout",
     "output_type": "stream",
     "text": [
      "\n",
      "Circle:\n"
     ]
    },
    {
     "name": "stdin",
     "output_type": "stream",
     "text": [
      "Enter a radius: 7\n"
     ]
    },
    {
     "name": "stdout",
     "output_type": "stream",
     "text": [
      "Area of circle 153.86\n",
      "Perimeter of circle 43.96\n",
      "1.Rectangle\n",
      "2.Circle\n",
      "3.Exit\n"
     ]
    },
    {
     "name": "stdin",
     "output_type": "stream",
     "text": [
      "Your option 3\n"
     ]
    },
    {
     "name": "stdout",
     "output_type": "stream",
     "text": [
      "\n",
      "Exit\n"
     ]
    }
   ],
   "source": [
    "import rectangle\n",
    "import circle \n",
    "\n",
    "while(1):\n",
    "        print(\"1.Rectangle\")\n",
    "        print(\"2.Circle\")\n",
    "        print(\"3.Exit\")\n",
    "    \n",
    "        opt=int(input(\"Your option\"))\n",
    "    \n",
    "        if opt==1:\n",
    "            print(\"\\nRectangle:\")\n",
    "            l=int(input(\"Enter first numbers:\"))\n",
    "            b=int(input(\"Enter second numbers:\"))\n",
    "            rectangle.area(l,b)\n",
    "            rectangle.perimeter(l,b)\n",
    "        \n",
    "        elif opt == 2:\n",
    "            print(\"\\nCircle:\")\n",
    "            r=float(input(\"Enter a radius:\"))\n",
    "            circle.area(r)\n",
    "            circle.perimeter(r)\n",
    "        \n",
    "        else :\n",
    "            print(\"\\nExit\")\n",
    "            break"
   ]
  },
  {
   "cell_type": "code",
   "execution_count": 8,
   "id": "976c4f79-94ef-4ab1-9838-8544056deba2",
   "metadata": {},
   "outputs": [
    {
     "ename": "ModuleNotFoundError",
     "evalue": "No module named 'package'",
     "output_type": "error",
     "traceback": [
      "\u001b[0;31m---------------------------------------------------------------------------\u001b[0m",
      "\u001b[0;31mModuleNotFoundError\u001b[0m                       Traceback (most recent call last)",
      "Cell \u001b[0;32mIn[8], line 1\u001b[0m\n\u001b[0;32m----> 1\u001b[0m \u001b[38;5;28;01mfrom\u001b[39;00m \u001b[38;5;21;01mpackage\u001b[39;00m\u001b[38;5;21;01m.\u001b[39;00m\u001b[38;5;21;01mgraphics\u001b[39;00m\u001b[38;5;21;01m.\u001b[39;00m\u001b[38;5;21;01mgraphics3D\u001b[39;00m \u001b[38;5;28;01mimport\u001b[39;00m rectangle\n\u001b[1;32m      2\u001b[0m \u001b[38;5;28;01mfrom\u001b[39;00m \u001b[38;5;21;01mpackage\u001b[39;00m\u001b[38;5;21;01m.\u001b[39;00m\u001b[38;5;21;01mgraphics\u001b[39;00m\u001b[38;5;21;01m.\u001b[39;00m\u001b[38;5;21;01mgraphics3D\u001b[39;00m \u001b[38;5;28;01mimport\u001b[39;00m circle\n\u001b[1;32m      3\u001b[0m \u001b[38;5;28;01mfrom\u001b[39;00m \u001b[38;5;21;01mpackage\u001b[39;00m\u001b[38;5;21;01m.\u001b[39;00m\u001b[38;5;21;01mgraphics\u001b[39;00m\u001b[38;5;21;01m.\u001b[39;00m\u001b[38;5;21;01mgraphics3D\u001b[39;00m \u001b[38;5;28;01mimport\u001b[39;00m cuboid\n",
      "\u001b[0;31mModuleNotFoundError\u001b[0m: No module named 'package'"
     ]
    }
   ],
   "source": []
  },
  {
   "cell_type": "code",
   "execution_count": null,
   "id": "c40ae5f5-7c1e-455b-9107-f7eb20a3d5d8",
   "metadata": {},
   "outputs": [],
   "source": []
  }
 ],
 "metadata": {
  "kernelspec": {
   "display_name": "Python 3 (ipykernel)",
   "language": "python",
   "name": "python3"
  },
  "language_info": {
   "codemirror_mode": {
    "name": "ipython",
    "version": 3
   },
   "file_extension": ".py",
   "mimetype": "text/x-python",
   "name": "python",
   "nbconvert_exporter": "python",
   "pygments_lexer": "ipython3",
   "version": "3.11.9"
  }
 },
 "nbformat": 4,
 "nbformat_minor": 5
}
