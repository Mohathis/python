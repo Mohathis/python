{
 "cells": [
  {
   "cell_type": "code",
   "execution_count": 5,
   "id": "dc82f70e-b969-42a2-bd33-8ab70b9e556c",
   "metadata": {},
   "outputs": [
    {
     "name": "stdin",
     "output_type": "stream",
     "text": [
      "Enter a colors for set1 red,yellow,blue,green,black,white\n",
      "Enter a colors for set2 red,black,yellow\n"
     ]
    },
    {
     "name": "stdout",
     "output_type": "stream",
     "text": [
      "colors in set1, but not in set2 {'green', 'white', 'blue'}\n"
     ]
    }
   ],
   "source": [
    "#write a python program to printout all colors from color set 1 not contained in color set2\n",
    "\n",
    "color_set1=set(input(\"Enter a colors for set1\").split(\",\"))\n",
    "color_set2=set(input(\"Enter a colors for set2\").split(\",\"))\n",
    "\n",
    "difference= color_set1 - color_set2\n",
    "\n",
    "print(\"colors in set1, but not in set2\",difference)"
   ]
  },
  {
   "cell_type": "code",
   "execution_count": 7,
   "id": "b94fcba7-b080-4ce3-9d60-8bb3824acb2a",
   "metadata": {},
   "outputs": [
    {
     "name": "stdin",
     "output_type": "stream",
     "text": [
      "Enter a colors for set1 red,yellow,white,black\n",
      "Enter a colors for set2 green,blue,teal\n"
     ]
    },
    {
     "name": "stdout",
     "output_type": "stream",
     "text": [
      "colors are {'green', 'white', 'blue', 'red', 'teal', 'black', 'yellow'}\n"
     ]
    }
   ],
   "source": [
    "#write a python program to printout all colors from color set 1 and color set2\n",
    "\n",
    "color_set1=set(input(\"Enter a colors for set1\").split(\",\"))\n",
    "color_set2=set(input(\"Enter a colors for set2\").split(\",\"))\n",
    "\n",
    "all_colors= color_set1 | color_set2 \n",
    "print(\"All colors from set1 and set2\",all_colors)"
   ]
  },
  {
   "cell_type": "code",
   "execution_count": null,
   "id": "05c018b9-4ea9-4fce-97f5-b9a4ebd70e33",
   "metadata": {},
   "outputs": [],
   "source": []
  }
 ],
 "metadata": {
  "kernelspec": {
   "display_name": "Python 3 (ipykernel)",
   "language": "python",
   "name": "python3"
  },
  "language_info": {
   "codemirror_mode": {
    "name": "ipython",
    "version": 3
   },
   "file_extension": ".py",
   "mimetype": "text/x-python",
   "name": "python",
   "nbconvert_exporter": "python",
   "pygments_lexer": "ipython3",
   "version": "3.11.9"
  }
 },
 "nbformat": 4,
 "nbformat_minor": 5
}
