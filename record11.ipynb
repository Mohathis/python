{
 "cells": [
  {
   "cell_type": "code",
   "execution_count": 65,
   "id": "0575d8eb-58c9-4c35-a31a-231bff12bdec",
   "metadata": {},
   "outputs": [
    {
     "name": "stdin",
     "output_type": "stream",
     "text": [
      "Enter a words hello python hello world\n"
     ]
    },
    {
     "name": "stdout",
     "output_type": "stream",
     "text": [
      "Words: ['hello', 'python', 'hello', 'world']\n",
      "Occurences of words:\n",
      "hello : 2\n",
      "python : 1\n",
      "world : 1\n"
     ]
    }
   ],
   "source": [
    "#count the occurrences of each word in a line of text\n",
    "\n",
    "text=input(\"Enter a words\").split()\n",
    "print(\"Words:\",text)\n",
    "count={}\n",
    " \n",
    "for word in text:\n",
    "    if word in count:\n",
    "        count[word] += 1\n",
    "    else:\n",
    "        count[word] = 1\n",
    "print(\"Occurences of words:\")\n",
    "for word in count:\n",
    "    print(word, \":\",count[word])"
   ]
  },
  {
   "cell_type": "code",
   "execution_count": 20,
   "id": "06a7251f-2f14-42c9-8adf-524b628a112b",
   "metadata": {},
   "outputs": [
    {
     "name": "stdin",
     "output_type": "stream",
     "text": [
      "Enter a numbers 70,150,50,200\n"
     ]
    },
    {
     "name": "stdout",
     "output_type": "stream",
     "text": [
      "Numbers: [70, 150, 50, 200]\n",
      "Numbers >= 100 are replaced with 'over'\n",
      "modified list [70, 'over', 50, 'over']\n"
     ]
    }
   ],
   "source": [
    " #prompt the user for a list of integers.for all values greater than 100,store 'over' instead.\n",
    "\n",
    "num=list(map(int, input(\"Enter a numbers\").split(\",\")))\n",
    "print(\"Numbers:\",num)\n",
    "new_list=[]\n",
    "\n",
    "for n in num:\n",
    "    if n>100:\n",
    "        new_list.append(\"over\")\n",
    "    else:\n",
    "        new_list.append(n)\n",
    "print(\"Numbers >= 100 are replaced with 'over'\")\n",
    "print(\"modified list\",new_list)\n"
   ]
  },
  {
   "cell_type": "code",
   "execution_count": 9,
   "id": "1c9c16a6-ef16-43b4-8cfa-c83cacea1ace",
   "metadata": {},
   "outputs": [
    {
     "name": "stdin",
     "output_type": "stream",
     "text": [
      "Enter a names Abin,Alice,Bobby,Karan,Stella\n"
     ]
    },
    {
     "name": "stdout",
     "output_type": "stream",
     "text": [
      "Names: ['Abin', 'Alice', 'Bobby', 'Karan', 'Stella']\n",
      "Number of 'a' letters in this list: 5\n"
     ]
    }
   ],
   "source": [
    "#store a list of first names.count tfrequency of characters:he occurrences of 'a' within the list\n",
    "\n",
    "names=list(input(\"Enter a names\").split(\",\"))\n",
    "count_a=0\n",
    "for name in names:\n",
    "    count_a += name.lower().count(\"a\")\n",
    "print(\"Names:\",names)\n",
    "print(\"Number of 'a' letters in this list:\",count_a)"
   ]
  },
  {
   "cell_type": "code",
   "execution_count": 35,
   "id": "3f579524-7c11-482f-93e8-14886ea755e6",
   "metadata": {},
   "outputs": [
    {
     "name": "stdin",
     "output_type": "stream",
     "text": [
      "Enter a first  number 154\n"
     ]
    },
    {
     "name": "stdout",
     "output_type": "stream",
     "text": [
      "First Number: 154\n"
     ]
    },
    {
     "name": "stdin",
     "output_type": "stream",
     "text": [
      "Enter a second number 76\n"
     ]
    },
    {
     "name": "stdout",
     "output_type": "stream",
     "text": [
      "Second Number: 76\n",
      "GCD is: 2\n"
     ]
    }
   ],
   "source": [
    "#find gcd of 2 numbers\n",
    "#import math\n",
    "a=int(input(\"Enter a first  number\"))\n",
    "print(\"First Number:\",a)\n",
    "b=int(input(\"Enter a second number\"))\n",
    "print(\"Second Number:\",b)\n",
    "while b !=0:\n",
    "    a,b = b, a%b\n",
    "\n",
    "print(\"GCD is:\",a)"
   ]
  },
  {
   "cell_type": "code",
   "execution_count": 34,
   "id": "b229e2c7-efdf-4307-8067-a09b3618c8fa",
   "metadata": {},
   "outputs": [
    {
     "name": "stdin",
     "output_type": "stream",
     "text": [
      "Enter a numbers 1,2,3,4,5,6,7,8,9\n"
     ]
    },
    {
     "name": "stdout",
     "output_type": "stream",
     "text": [
      "Numbers: [1, 2, 3, 4, 5, 6, 7, 8, 9]\n",
      "Withot even numbers: [1, 3, 5, 7, 9]\n"
     ]
    }
   ],
   "source": [
    "#from a list of integers, create a list removing even numbers\n",
    "\n",
    "numbers=list(map(int, input(\"Enter a numbers\").split(\",\")))\n",
    "print(\"Numbers:\",numbers)\n",
    "\n",
    "odd=[]\n",
    "for num in numbers:\n",
    "    if num % 2 != 0:\n",
    "        odd.append(num)\n",
    "\n",
    "print(\"Withot even numbers:\",odd)"
   ]
  },
  {
   "cell_type": "code",
   "execution_count": 38,
   "id": "11b7b21c-fa64-4a3e-bb6c-9f266ba1300a",
   "metadata": {},
   "outputs": [
    {
     "name": "stdin",
     "output_type": "stream",
     "text": [
      "Enter a number 5\n"
     ]
    },
    {
     "name": "stdout",
     "output_type": "stream",
     "text": [
      "5\n",
      "Factorial of a number: 120\n"
     ]
    }
   ],
   "source": [
    "#program to find factorial of a number\n",
    "\n",
    "num=int(input(\"Enter a number\"))\n",
    "print(num)\n",
    "fact=1\n",
    "for i in range(1,num + 1):\n",
    "        fact*=i\n",
    "\n",
    "print(\"Factorial of a number:\",fact)"
   ]
  },
  {
   "cell_type": "code",
   "execution_count": 24,
   "id": "727115b9-0440-4339-a318-bd61baa5c190",
   "metadata": {},
   "outputs": [
    {
     "name": "stdin",
     "output_type": "stream",
     "text": [
      "Enter a number 7\n"
     ]
    },
    {
     "name": "stdout",
     "output_type": "stream",
     "text": [
      "7\n",
      "fibonacci series of the number:\n",
      "0   1   1   2   3   5   8   "
     ]
    }
   ],
   "source": [
    "#Generate fibonacci series of N terms\n",
    "n=int(input(\"Enter a number\"))\n",
    "print(n)\n",
    "a,b=0,1\n",
    "print(\"fibonacci series of the number:\")\n",
    "\n",
    "for i in range(n):\n",
    "    print(a,end=\"   \")\n",
    "    a,b=b, a+b"
   ]
  },
  {
   "cell_type": "code",
   "execution_count": 33,
   "id": "8143615f-fae8-4b39-8212-61c2745239b4",
   "metadata": {},
   "outputs": [
    {
     "name": "stdin",
     "output_type": "stream",
     "text": [
      "Enter the numbers 1,23,4,5,6,7,8,9,10\n"
     ]
    },
    {
     "name": "stdout",
     "output_type": "stream",
     "text": [
      "Numbers: [1, 23, 4, 5, 6, 7, 8, 9, 10]\n",
      "Sum of the numbers: 73\n"
     ]
    }
   ],
   "source": [
    "#Find the sum of all items in a list\n",
    "\n",
    "numbers=list(map(int, input(\"Enter the numbers\").split(\",\")))\n",
    "print(\"Numbers:\",numbers)\n",
    "sum=0\n",
    "for n in numbers:\n",
    "    sum += n\n",
    "\n",
    "print(\"Sum of the numbers:\",sum)"
   ]
  },
  {
   "cell_type": "code",
   "execution_count": 59,
   "id": "c2e0b728-ad27-4719-83d4-30edddbd47ab",
   "metadata": {},
   "outputs": [
    {
     "name": "stdin",
     "output_type": "stream",
     "text": [
      "Enter the number of (1000-9999) 5000\n",
      "Enter the number of (a-9999) 7000\n"
     ]
    },
    {
     "name": "stdout",
     "output_type": "stream",
     "text": [
      "Numbers : 5000 7000\n",
      "All even digits and that are perfect square\n",
      "Numbers is: [5184, 5476, 5776, 6084, 6400, 6724]\n"
     ]
    }
   ],
   "source": [
    "#generate a list of four digit number in a given range with all their digits even and the number is a perfect square\n",
    "import math\n",
    "a=int(input(\"Enter the number of (1000-9999)\"))\n",
    "b=int(input(\"Enter the number of (a-9999)\"))\n",
    "print(\"Numbers :\",a,b)\n",
    "result=[]\n",
    "for i in range(a, b):\n",
    "    if i%2==0:\n",
    "        sqrt=math.sqrt(i)\n",
    "        if sqrt==int(sqrt):\n",
    "            result.append(i)\n",
    "print(\"All even digits and that are perfect square\")\n",
    "print(\"Numbers is:\", result)"
   ]
  },
  {
   "cell_type": "code",
   "execution_count": 60,
   "id": "fe878512-936f-4122-a89f-c4ba63f03a42",
   "metadata": {},
   "outputs": [
    {
     "name": "stdin",
     "output_type": "stream",
     "text": [
      "Enter the word hello world\n"
     ]
    },
    {
     "name": "stdout",
     "output_type": "stream",
     "text": [
      "hello world\n",
      "Character frequency is:\n",
      "h : 1\n",
      "e : 1\n",
      "l : 3\n",
      "o : 2\n",
      "  : 1\n",
      "w : 1\n",
      "r : 1\n",
      "d : 1\n"
     ]
    }
   ],
   "source": [
    "#Count the number of characters(character frequency)in a string\n",
    "\n",
    "text=input(\"Enter the word\")\n",
    "print(text)\n",
    "freq={}\n",
    "\n",
    "for i in text:\n",
    "    if i in freq:\n",
    "        freq[i]+=1\n",
    "    else:\n",
    "        freq[i]=1\n",
    "print(\"Character frequency is:\")\n",
    "for i in freq:\n",
    "    print(i,\":\",freq[i])"
   ]
  },
  {
   "cell_type": "code",
   "execution_count": 33,
   "id": "6942fa80-d1ee-4a39-bee6-8f17423067ef",
   "metadata": {},
   "outputs": [
    {
     "name": "stdin",
     "output_type": "stream",
     "text": [
      "Enter a number 4\n"
     ]
    },
    {
     "name": "stdout",
     "output_type": "stream",
     "text": [
      "1   \n",
      "2   4   \n",
      "3   6   9   \n",
      "4   8   12   16   \n"
     ]
    }
   ],
   "source": [
    "#display the given pyramid with step number accepted from user.\n",
    "#Eg: N=4\n",
    "#      1\n",
    "#      2  4\n",
    "#      3  6  9\n",
    "#      4  8  12  16\n",
    "\n",
    "n=int(input(\"Enter a number\"))\n",
    "\n",
    "for i in range(1,n+1):\n",
    "        for j in range(1,i+1):\n",
    "            print(i*j,end=\"   \")\n",
    "\n",
    "        print()"
   ]
  }
 ],
 "metadata": {
  "kernelspec": {
   "display_name": "Python 3 (ipykernel)",
   "language": "python",
   "name": "python3"
  },
  "language_info": {
   "codemirror_mode": {
    "name": "ipython",
    "version": 3
   },
   "file_extension": ".py",
   "mimetype": "text/x-python",
   "name": "python",
   "nbconvert_exporter": "python",
   "pygments_lexer": "ipython3",
   "version": "3.11.9"
  }
 },
 "nbformat": 4,
 "nbformat_minor": 5
}
